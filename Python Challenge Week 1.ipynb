{
 "cells": [
  {
   "cell_type": "code",
   "execution_count": 1,
   "metadata": {},
   "outputs": [],
   "source": [
    "import random\n",
    "import numpy as np\n",
    "import requests"
   ]
  },
  {
   "cell_type": "code",
   "execution_count": 52,
   "metadata": {},
   "outputs": [],
   "source": [
    "class Community:\n",
    "    \n",
    "    def __init__(self, totalPopulation=100, row_size=8, mutationRate=0.05):\n",
    "        self.totalPopulation = totalPopulation\n",
    "        self.row_size = row_size\n",
    "        self.mutationRate = mutationRate\n",
    "        self.population_array = self.initial_population()\n",
    "        self.fitness_score()\n",
    "        self.perfect_config = np.zeros((1,1))\n",
    "    \n",
    "    def initial_population(self):\n",
    "        # generate an array of configurations represented as arrays\n",
    "        # expect shape as (totalPopulation, row_size)\n",
    "        \n",
    "        def fill_position(a):\n",
    "            return np.apply_along_axis(lambda x: random.randint(0,self.row_size-1), 0, population_array)\n",
    "\n",
    "        population_array = np.zeros((self.totalPopulation,self.row_size))\n",
    "        population_array = np.apply_along_axis(fill_position, 1, population_array)\n",
    "        return population_array\n",
    "    \n",
    "    def fitness_score(self):\n",
    "        # generate an array of shape (totalPopulation, 1) where each number corresponds\n",
    "        # with a configuration in population array\n",
    "        # the highest possible score is the length of the configuration times 2\n",
    "        # a point for each unique value and a point for each non diagonal sharing numbers\n",
    "        \n",
    "        def diagonal_check(a):\n",
    "            passing = 0\n",
    "            \n",
    "            for i in range(len(a)):\n",
    "                b = np.copy(a[i:])\n",
    "                \n",
    "                for j in range(i, len(a)):\n",
    "                    v = a[i]\n",
    "                    b[j-i] = np.absolute(a[j]-v) - (j-i)\n",
    "                unique, counts = np.unique(b, return_counts=True)\n",
    "\n",
    "                if counts[np.where(unique==0)][0] == 1:\n",
    "                    passing += 1\n",
    "            \n",
    "            return passing\n",
    "    \n",
    "        \n",
    "        self.score = np.apply_along_axis(lambda x: len(np.unique(x)), 1, self.population_array) +\\\n",
    "                     np.apply_along_axis(diagonal_check, 1, self.population_array)\n",
    "    \n",
    "    def get_score(self):\n",
    "        return self.score\n",
    "    \n",
    "    def crossover_mutation(self):\n",
    "        # selection, crossover, and mutation in one function\n",
    "\n",
    "        def parental_selection_and_crossover(a):\n",
    "            # choose parents by weighted average in their scores\n",
    "            # choose a random partition to crossover\n",
    "            parents = np.array(random.choices(self.population_array, weights=self.score, k=2))\n",
    "            crossOver = random.randint(0, self.row_size-1)\n",
    "            return np.concatenate((parents[0,:crossOver], parents[1,crossOver:]))\n",
    "\n",
    "        def mutation(a):\n",
    "            # randomly select an index to mutate if chosen to mutate\n",
    "            # each configuration was extended by a random float from 0-1\n",
    "            # so it uses the last indexed number to determine whether it mutates\n",
    "            # will drop the last index after applying this function\n",
    "            \n",
    "            if a[-1]<self.mutationRate:\n",
    "                a[random.randint(0, self.row_size-1)]=random.randint(0, self.row_size-1)\n",
    "                \n",
    "            return a\n",
    "       \n",
    "        queuing = np.zeros((self.totalPopulation,1))\n",
    "        developing_population = np.apply_along_axis(parental_selection_and_crossover, 1, queuing)\n",
    "        mutation_chance = np.concatenate((developing_population, np.random.uniform(size=(self.totalPopulation,1))), axis=1)\n",
    "        new_population = np.apply_along_axis(mutation, 1, mutation_chance)\n",
    "        self.population_array = np.delete(new_population, -1, 1)\n",
    "    \n",
    "    def find_perfect_config(self):\n",
    "        # should be used only when the a configuation has all unique numbers\n",
    "        # otherwise send a dummy response\n",
    "        try:\n",
    "            self.perfect_config = self.population_array[np.where(self.score==self.row_size*2)[0][0]]\n",
    "        except IndexError:\n",
    "            self.perfect_config = np.zeros(1)\n",
    "            \n",
    "    def get_perfect_config(self):\n",
    "        # return response in string format with a space between each number\n",
    "        return ' '.join(list(map(lambda x:str(int(x)), list(self.perfect_config))))\n",
    "    "
   ]
  },
  {
   "cell_type": "code",
   "execution_count": 83,
   "metadata": {
    "scrolled": true
   },
   "outputs": [],
   "source": [
    "def main():\n",
    "    \n",
    "    totalPopulation = 500\n",
    "    row_size = 8\n",
    "    mutationRate = 0.10\n",
    "    \n",
    "    the_community = Community(totalPopulation, row_size, mutationRate)\n",
    "\n",
    "    endless_loop = True\n",
    "    counter = 0\n",
    "\n",
    "    while endless_loop:\n",
    "        counter+=1\n",
    "        if counter%100==0:\n",
    "            print(f'Generation: {counter} {np.mean(the_community.get_score())}')\n",
    "        \n",
    "        if max(the_community.get_score())==row_size*2:\n",
    "            the_community.find_perfect_config()\n",
    "            print(the_community.get_perfect_config())\n",
    "            print(f'Generation: {counter}')\n",
    "            #url='https://lf8q0kx152.execute-api.us-east-2.amazonaws.com/default/computeFitnessScore'\n",
    "            #x=requests.post(url,json={\"qconfig\":the_community.get_perfect_config(),\"userID\":843868,\"githubLink\":\"https://github.com/cdinhphil/datasummit_python_challenge1\"})\n",
    "            #print(x.text)\n",
    "\n",
    "            \n",
    "            break\n",
    "\n",
    "        the_community.crossover_mutation()\n",
    "        the_community.fitness_score()"
   ]
  },
  {
   "cell_type": "code",
   "execution_count": 85,
   "metadata": {},
   "outputs": [
    {
     "name": "stdout",
     "output_type": "stream",
     "text": [
      "4 2 0 5 7 1 3 6\n",
      "Generation: 51\n"
     ]
    }
   ],
   "source": [
    "main()"
   ]
  },
  {
   "cell_type": "code",
   "execution_count": 86,
   "metadata": {},
   "outputs": [
    {
     "name": "stdout",
     "output_type": "stream",
     "text": [
      "2 4 6 0 3 1 7 5\n",
      "Generation: 67\n",
      "4 7 3 0 6 1 5 2\n",
      "Generation: 14\n",
      "0 6 3 5 7 1 4 2\n",
      "Generation: 37\n",
      "1 5 0 6 3 7 2 4\n",
      "Generation: 7\n",
      "Generation: 100 11.07\n",
      "4 2 7 3 6 0 5 1\n",
      "Generation: 149\n",
      "6 4 2 0 5 7 1 3\n",
      "Generation: 54\n",
      "5 1 6 0 3 7 4 2\n",
      "Generation: 56\n",
      "Generation: 100 11.646\n",
      "Generation: 200 12.836\n",
      "Generation: 300 12.888\n",
      "Generation: 400 13.046\n",
      "1 4 6 0 2 7 5 3\n",
      "Generation: 441\n",
      "The slowest run took 63.30 times longer than the fastest. This could mean that an intermediate result is being cached.\n",
      "15.3 s ± 19.9 s per loop (mean ± std. dev. of 7 runs, 1 loop each)\n"
     ]
    }
   ],
   "source": [
    "%timeit main()"
   ]
  },
  {
   "cell_type": "markdown",
   "metadata": {},
   "source": [
    "****************** Unit Testing *************************"
   ]
  },
  {
   "cell_type": "code",
   "execution_count": 37,
   "metadata": {},
   "outputs": [],
   "source": [
    "import unittest\n",
    "\n",
    "class TestProcessing(unittest.TestCase):\n",
    "    \n",
    "    def setUp(self):\n",
    "        self.community = Community(100, 8, 0.05)\n",
    "        \n",
    "    def test_initial_population(self):\n",
    "        self.assertEqual(self.community.population_array.shape, (100,8))\n",
    "        n = set(np.arange(8))\n",
    "        \n",
    "        for i in list(set(self.community.population_array.flatten())):\n",
    "            self.assertIn(i, n)\n",
    "            \n",
    "    def test_fitness_score(self):\n",
    "        self.assertLessEqual(max(self.community.score), 8)\n",
    "        self.assertGreaterEqual(min(self.community.score),0)\n",
    "        \n",
    "    def test_get_score(self):\n",
    "        self.assertEqual(self.community.population_array.shape, (100,8))\n",
    "        n = set(np.arange(8))\n",
    "        \n",
    "        for i in list(set(self.community.get_score())):\n",
    "            self.assertIn(i, n)\n",
    "            \n",
    "    def test_crossover_mutation(self):\n",
    "        old_generation = self.community.population_array\n",
    "        self.community.crossover_mutation()\n",
    "        self.assertRaises(AssertionError, np.testing.assert_array_equal, old_generation, self.community.population_array)\n",
    "        self.assertEqual(self.community.population_array.shape, (100,8))\n",
    "        n = set(np.arange(8))\n",
    "        \n",
    "        for i in list(set(self.community.population_array.flatten())):\n",
    "            self.assertIn(i, n)\n",
    "            \n",
    "    def test_find_perfect_config(self):\n",
    "        self.community.population_array = np.zeros((100,8))\n",
    "        self.community.population_array[0] = np.arange(8)\n",
    "        self.community.fitness_score()\n",
    "        self.community.find_perfect_config()\n",
    "        np.testing.assert_array_equal(self.community.perfect_config, np.arange(8))\n",
    "        \n",
    "    def test_get_perfect_config(self):\n",
    "        self.community.perfect_config = np.arange(8)\n",
    "        self.assertEqual(self.community.get_perfect_config(), '0 1 2 3 4 5 6 7')\n",
    "        "
   ]
  },
  {
   "cell_type": "code",
   "execution_count": 38,
   "metadata": {},
   "outputs": [],
   "source": [
    "a = TestProcessing()\n",
    "a.setUp()\n",
    "a.test_initial_population()\n",
    "a.test_fitness_score()\n",
    "a.test_get_score()\n",
    "a.test_crossover_mutation()\n",
    "a.test_find_perfect_config()\n",
    "a.test_get_perfect_config()"
   ]
  },
  {
   "cell_type": "code",
   "execution_count": 71,
   "metadata": {},
   "outputs": [
    {
     "name": "stdout",
     "output_type": "stream",
     "text": [
      "8\n",
      "[[0. 0. 0. 0. 1. 0. 0. 0.]\n",
      " [0. 0. 1. 0. 0. 0. 0. 0.]\n",
      " [1. 0. 0. 0. 0. 0. 0. 0.]\n",
      " [0. 0. 0. 0. 0. 0. 1. 0.]\n",
      " [0. 1. 0. 0. 0. 0. 0. 0.]\n",
      " [0. 0. 0. 0. 0. 0. 0. 1.]\n",
      " [0. 0. 0. 0. 0. 1. 0. 0.]\n",
      " [0. 0. 0. 1. 0. 0. 0. 0.]]\n"
     ]
    }
   ],
   "source": [
    "a = np.array([4, 2, 0, 6, 1, 7, 5, 3])\n",
    "passing = 0\n",
    "for i in range(len(a)):\n",
    "    b = np.copy(a[i:])\n",
    "    for j in range(i, len(a)):\n",
    "        v = a[i]\n",
    "        b[j-i] = np.absolute(a[j]-v) - (j-i)\n",
    "    unique, counts = np.unique(b, return_counts=True)\n",
    "    \n",
    "    if counts[np.where(unique==0)][0] == 1:\n",
    "        passing += 1\n",
    "print(passing)\n",
    "\n",
    "b = np.zeros((8,8))\n",
    "for k in range(8):\n",
    "    b[k][a[k]] = 1\n",
    "print(b)"
   ]
  },
  {
   "cell_type": "code",
   "execution_count": null,
   "metadata": {},
   "outputs": [],
   "source": []
  }
 ],
 "metadata": {
  "kernelspec": {
   "display_name": "Python 3",
   "language": "python",
   "name": "python3"
  },
  "language_info": {
   "codemirror_mode": {
    "name": "ipython",
    "version": 3
   },
   "file_extension": ".py",
   "mimetype": "text/x-python",
   "name": "python",
   "nbconvert_exporter": "python",
   "pygments_lexer": "ipython3",
   "version": "3.7.4"
  }
 },
 "nbformat": 4,
 "nbformat_minor": 2
}
